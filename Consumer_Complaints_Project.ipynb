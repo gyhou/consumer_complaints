{
  "nbformat": 4,
  "nbformat_minor": 0,
  "metadata": {
    "colab": {
      "name": "Consumer Complaints Project.ipynb",
      "provenance": [],
      "toc_visible": true,
      "authorship_tag": "ABX9TyPKYGplrTMOQMvLiG0gJmX7",
      "include_colab_link": true
    },
    "kernelspec": {
      "name": "python3",
      "display_name": "Python 3"
    },
    "accelerator": "GPU"
  },
  "cells": [
    {
      "cell_type": "markdown",
      "metadata": {
        "id": "view-in-github",
        "colab_type": "text"
      },
      "source": [
        "<a href=\"https://colab.research.google.com/github/gyhou/consumer_complaints/blob/master/Consumer_Complaints_Project.ipynb\" target=\"_parent\"><img src=\"https://colab.research.google.com/assets/colab-badge.svg\" alt=\"Open In Colab\"/></a>"
      ]
    },
    {
      "cell_type": "markdown",
      "metadata": {
        "id": "OrMkETQQTEFV",
        "colab_type": "text"
      },
      "source": [
        "# Consumer Complaints Project\n",
        "Github Link (https://github.com/gyhou/consumer_complaints)\n",
        "\n",
        "For this project ***using only built-in Python libraries***, we want to know for each financial product and year\n",
        "- Total number of complaints\n",
        "- Number of companies receiving a complaint\n",
        "- Company with the most complaints\n",
        "- Highest percentage of complaints directed at a single company\n",
        "\n",
        "Data Source: [Consumer Finance Protection Bureau](https://cfpb.github.io/api/ccdb/fields.html)\n"
      ]
    },
    {
      "cell_type": "markdown",
      "metadata": {
        "id": "_6EKzSgbezMe",
        "colab_type": "text"
      },
      "source": [
        "## Downloading data"
      ]
    },
    {
      "cell_type": "code",
      "metadata": {
        "id": "-gXqT9tm0NfR",
        "colab_type": "code",
        "colab": {}
      },
      "source": [
        "# Create input and output folders\n",
        "!mkdir input sample_input output sample_output\n",
        "# Download sample data\n",
        "!curl https://raw.githubusercontent.com/gyhou/consumer_complaints/master/input/complaints.csv -o sample_input/complaints.csv"
      ],
      "execution_count": 0,
      "outputs": []
    },
    {
      "cell_type": "code",
      "metadata": {
        "id": "Uotz-bxXtZtY",
        "colab_type": "code",
        "colab": {}
      },
      "source": [
        "# Download full data from CFPB\n",
        "!wget http://files.consumerfinance.gov/ccdb/complaints.csv.zip -O input/complaints.csv.zip\n",
        "!unzip input/complaints.csv -d input"
      ],
      "execution_count": 0,
      "outputs": []
    },
    {
      "cell_type": "markdown",
      "metadata": {
        "id": "eBOqw76he7fN",
        "colab_type": "text"
      },
      "source": [
        "## Reading/Loading CSV"
      ]
    },
    {
      "cell_type": "code",
      "metadata": {
        "id": "SU1pXMBT3Eb7",
        "colab_type": "code",
        "colab": {}
      },
      "source": [
        "import csv\n",
        "\n",
        "def process_csv(file_loc):\n",
        "    \"\"\"\n",
        "    :param file_loc:\n",
        "        The file location to extract the csv from.\n",
        "\n",
        "    Given the data for consumer complaints, identifying the number of \n",
        "    complaints filed and how they're spread across different companies.\n",
        "    For each financial product and year,  the total number of complaints, \n",
        "    number of companies receiving a complaint, and the highest \n",
        "    percentage of complaints directed at a single company.\n",
        "\n",
        "    Returns a dictionary:\n",
        "        {(product_1, year_1): {company_1: number of complaints, company_2...},\n",
        "         (product_1, year_2): {company_1...},\n",
        "         ...\n",
        "         (product_2, year_1)...}\n",
        "    \"\"\"\n",
        "    processed_data = dict()\n",
        "    with open(file_loc) as csv_file:\n",
        "        data = csv.DictReader(csv_file)\n",
        "\n",
        "        # Check for missing columns\n",
        "        missing_col = []\n",
        "        if 'Product' not in data.fieldnames:\n",
        "            missing_col.append('Product')\n",
        "        if 'Date received' not in data.fieldnames:\n",
        "            missing_col.append('Date received')\n",
        "        if 'Company' not in data.fieldnames:\n",
        "            missing_col.append('Company')\n",
        "        if missing_col:\n",
        "            raise KeyError(f\"The csv is missing {missing_col} column(s).\")\n",
        "\n",
        "        # Data sorted by product (alphabetically) and year (ascending)\n",
        "        data = sorted(data, key=lambda row: (\n",
        "            row['Product'], row['Date received']), reverse=False)\n",
        "\n",
        "        for row in data:\n",
        "            product = row['Product'].lower()\n",
        "            year = row['Date received'][:4]\n",
        "            company = row['Company'].lower()\n",
        "\n",
        "            # Check if product, year, company are valid\n",
        "            if product in ['', 'n/a', 'none', 'nan', None] or product.isspace():\n",
        "                raise TypeError(f'\"{product}\" is not a valid product.')\n",
        "            if company in ['', 'n/a', 'none', 'nan', None] or company.isspace():\n",
        "                raise TypeError(f'\"{company}\" is not a valid company.')\n",
        "            try:\n",
        "                int(year)\n",
        "            except ValueError:\n",
        "                raise ValueError(f'\"{year}\" is not a valid year.')\n",
        "                \n",
        "            # Set primary key (product, year)\n",
        "            if (product, year) in processed_data:\n",
        "                if company in processed_data[product, year]:\n",
        "                    processed_data[product, year][company] += 1\n",
        "                else:\n",
        "                    processed_data[product, year][company] = 1\n",
        "            else:\n",
        "                processed_data[product, year] = {company: 1}\n",
        "    return processed_data\n"
      ],
      "execution_count": 0,
      "outputs": []
    },
    {
      "cell_type": "markdown",
      "metadata": {
        "id": "xXfnN-E56prf",
        "colab_type": "text"
      },
      "source": [
        "### Check return value"
      ]
    },
    {
      "cell_type": "code",
      "metadata": {
        "id": "RY0lVQf1yNrN",
        "colab_type": "code",
        "colab": {
          "base_uri": "https://localhost:8080/",
          "height": 118
        },
        "outputId": "e1908648-cb27-497d-fe02-ad2795e5e2ef"
      },
      "source": [
        " from pathlib import Path\n",
        "\n",
        "# Sample dict data\n",
        "file_to_open = Path(\"sample_input/complaints.csv\")\n",
        "sample_data_dict = process_csv(file_to_open)\n",
        "sample_data_dict"
      ],
      "execution_count": 15,
      "outputs": [
        {
          "output_type": "execute_result",
          "data": {
            "text/plain": [
              "{('credit reporting, credit repair services, or other personal consumer reports',\n",
              "  '2019'): {'experian information solutions inc.': 1,\n",
              "  'transunion intermediate holdings, inc.': 2},\n",
              " ('credit reporting, credit repair services, or other personal consumer reports',\n",
              "  '2020'): {'experian information solutions inc.': 1},\n",
              " ('debt collection', '2019'): {'transworld systems inc': 1}}"
            ]
          },
          "metadata": {
            "tags": []
          },
          "execution_count": 15
        }
      ]
    },
    {
      "cell_type": "code",
      "metadata": {
        "id": "a79UY3F-yyzZ",
        "colab_type": "code",
        "colab": {
          "base_uri": "https://localhost:8080/",
          "height": 34
        },
        "outputId": "9a1b0ab4-2d24-4c7a-dab3-37172a568591"
      },
      "source": [
        "# Full dict data\n",
        "file_to_open = Path(\"input/complaints.csv\")\n",
        "data_dict = process_csv(file_to_open)\n",
        "# Number of unique financial product and year\n",
        "len(data_dict.keys())"
      ],
      "execution_count": 34,
      "outputs": [
        {
          "output_type": "execute_result",
          "data": {
            "text/plain": [
              "98"
            ]
          },
          "metadata": {
            "tags": []
          },
          "execution_count": 34
        }
      ]
    },
    {
      "cell_type": "markdown",
      "metadata": {
        "id": "_JW16tC1rlcZ",
        "colab_type": "text"
      },
      "source": [
        "## Writing/Output CSV"
      ]
    },
    {
      "cell_type": "code",
      "metadata": {
        "id": "DAVWdhcArUzB",
        "colab_type": "code",
        "colab": {}
      },
      "source": [
        "from decimal import Decimal, ROUND_HALF_UP\n",
        "\n",
        "def output_csv(dict_data, save_loc):\n",
        "    \"\"\"\n",
        "    :param dict_data:\n",
        "        The dictionary with the processed data to covert into csv.\n",
        "    :param save_loc:\n",
        "        The location to save the csv file to.\n",
        "\n",
        "    Creates a csv file in the output folder.\n",
        "    Each line in the output file list the following fields in the following order:\n",
        "    - product (name should be written in all lowercase)\n",
        "    - year\n",
        "    - num_complaint: total number of complaints received for that product and year\n",
        "    - num_company: total number of companies receiving at least one complaint for that product and year\n",
        "    - most_complaints: company with most complaints for that product and year\n",
        "    - highest percentage (rounded to the nearest whole number) of total complaints filed against one \n",
        "    company for that product and year.\n",
        "    \"\"\"\n",
        "    with open(save_loc, 'w') as csv_file:\n",
        "        field_names = ['product', 'year', 'num_complaint', 'num_company', \n",
        "                       'most_complaints', 'highest_percent']\n",
        "        writer = csv.DictWriter(csv_file, fieldnames=field_names)\n",
        "\n",
        "        writer.writeheader()\n",
        "        for product_year, company_complaint in dict_data.items():\n",
        "            product = product_year[0]\n",
        "            year = product_year[1]\n",
        "            num_complaint = sum(company_complaint.values())\n",
        "            num_company = len(company_complaint)\n",
        "            most_complaints = max(company_complaint, key=company_complaint.get)\n",
        "            # Python round() does not round .5 up to 1\n",
        "            highest_percent = (Decimal(max(company_complaint.values()) /\n",
        "                                       sum(company_complaint.values()) * 100).\n",
        "                               quantize(0, ROUND_HALF_UP))\n",
        "\n",
        "            writer.writerow({'product': product,\n",
        "                             'year': year,\n",
        "                             'num_complaint': num_complaint,\n",
        "                             'num_company': num_company,\n",
        "                             'most_complaints': most_complaints,\n",
        "                             'highest_percent': highest_percent})\n"
      ],
      "execution_count": 0,
      "outputs": []
    },
    {
      "cell_type": "code",
      "metadata": {
        "id": "aht0Pnb0yCua",
        "colab_type": "code",
        "colab": {}
      },
      "source": [
        "file_to_save = Path(\"output/report.csv\")\n",
        "output_csv(data_dict, file_to_save)"
      ],
      "execution_count": 0,
      "outputs": []
    },
    {
      "cell_type": "markdown",
      "metadata": {
        "id": "oijvfrD1rI2P",
        "colab_type": "text"
      },
      "source": [
        "# Check Result\n",
        "- Use Pandas to check if we get our desired result"
      ]
    },
    {
      "cell_type": "code",
      "metadata": {
        "id": "EVLAvuaoeZR_",
        "colab_type": "code",
        "outputId": "32f5d647-3a3d-4161-ce8e-cb3f13560091",
        "colab": {
          "base_uri": "https://localhost:8080/",
          "height": 669
        }
      },
      "source": [
        "import pandas as pd\n",
        "# Original Data\n",
        "df = pd.read_csv('input/complaints.csv')\n",
        "print(df.shape)\n",
        "df.head()"
      ],
      "execution_count": 40,
      "outputs": [
        {
          "output_type": "stream",
          "text": [
            "(1552473, 18)\n"
          ],
          "name": "stdout"
        },
        {
          "output_type": "execute_result",
          "data": {
            "text/html": [
              "<div>\n",
              "<style scoped>\n",
              "    .dataframe tbody tr th:only-of-type {\n",
              "        vertical-align: middle;\n",
              "    }\n",
              "\n",
              "    .dataframe tbody tr th {\n",
              "        vertical-align: top;\n",
              "    }\n",
              "\n",
              "    .dataframe thead th {\n",
              "        text-align: right;\n",
              "    }\n",
              "</style>\n",
              "<table border=\"1\" class=\"dataframe\">\n",
              "  <thead>\n",
              "    <tr style=\"text-align: right;\">\n",
              "      <th></th>\n",
              "      <th>Date received</th>\n",
              "      <th>Product</th>\n",
              "      <th>Sub-product</th>\n",
              "      <th>Issue</th>\n",
              "      <th>Sub-issue</th>\n",
              "      <th>Consumer complaint narrative</th>\n",
              "      <th>Company public response</th>\n",
              "      <th>Company</th>\n",
              "      <th>State</th>\n",
              "      <th>ZIP code</th>\n",
              "      <th>Tags</th>\n",
              "      <th>Consumer consent provided?</th>\n",
              "      <th>Submitted via</th>\n",
              "      <th>Date sent to company</th>\n",
              "      <th>Company response to consumer</th>\n",
              "      <th>Timely response?</th>\n",
              "      <th>Consumer disputed?</th>\n",
              "      <th>Complaint ID</th>\n",
              "    </tr>\n",
              "  </thead>\n",
              "  <tbody>\n",
              "    <tr>\n",
              "      <th>0</th>\n",
              "      <td>2019-09-24</td>\n",
              "      <td>Debt collection</td>\n",
              "      <td>I do not know</td>\n",
              "      <td>Attempts to collect debt not owed</td>\n",
              "      <td>Debt is not yours</td>\n",
              "      <td>transworld systems inc. \\nis trying to collect...</td>\n",
              "      <td>NaN</td>\n",
              "      <td>TRANSWORLD SYSTEMS INC</td>\n",
              "      <td>FL</td>\n",
              "      <td>335XX</td>\n",
              "      <td>NaN</td>\n",
              "      <td>Consent provided</td>\n",
              "      <td>Web</td>\n",
              "      <td>2019-09-24</td>\n",
              "      <td>Closed with explanation</td>\n",
              "      <td>Yes</td>\n",
              "      <td>NaN</td>\n",
              "      <td>3384392</td>\n",
              "    </tr>\n",
              "    <tr>\n",
              "      <th>1</th>\n",
              "      <td>2019-09-19</td>\n",
              "      <td>Credit reporting, credit repair services, or o...</td>\n",
              "      <td>Credit reporting</td>\n",
              "      <td>Incorrect information on your report</td>\n",
              "      <td>Information belongs to someone else</td>\n",
              "      <td>NaN</td>\n",
              "      <td>Company has responded to the consumer and the ...</td>\n",
              "      <td>Experian Information Solutions Inc.</td>\n",
              "      <td>PA</td>\n",
              "      <td>15206</td>\n",
              "      <td>NaN</td>\n",
              "      <td>Consent not provided</td>\n",
              "      <td>Web</td>\n",
              "      <td>2019-09-20</td>\n",
              "      <td>Closed with non-monetary relief</td>\n",
              "      <td>Yes</td>\n",
              "      <td>NaN</td>\n",
              "      <td>3379500</td>\n",
              "    </tr>\n",
              "    <tr>\n",
              "      <th>2</th>\n",
              "      <td>2019-10-25</td>\n",
              "      <td>Credit reporting, credit repair services, or o...</td>\n",
              "      <td>Credit reporting</td>\n",
              "      <td>Incorrect information on your report</td>\n",
              "      <td>Information belongs to someone else</td>\n",
              "      <td>I would like to request the suppression of the...</td>\n",
              "      <td>Company has responded to the consumer and the ...</td>\n",
              "      <td>TRANSUNION INTERMEDIATE HOLDINGS, INC.</td>\n",
              "      <td>CA</td>\n",
              "      <td>937XX</td>\n",
              "      <td>NaN</td>\n",
              "      <td>Consent provided</td>\n",
              "      <td>Web</td>\n",
              "      <td>2019-10-25</td>\n",
              "      <td>Closed with explanation</td>\n",
              "      <td>Yes</td>\n",
              "      <td>NaN</td>\n",
              "      <td>3417821</td>\n",
              "    </tr>\n",
              "    <tr>\n",
              "      <th>3</th>\n",
              "      <td>2019-11-08</td>\n",
              "      <td>Debt collection</td>\n",
              "      <td>I do not know</td>\n",
              "      <td>Communication tactics</td>\n",
              "      <td>Frequent or repeated calls</td>\n",
              "      <td>Over the past 2 weeks, I have been receiving e...</td>\n",
              "      <td>NaN</td>\n",
              "      <td>Diversified Consultants, Inc.</td>\n",
              "      <td>NC</td>\n",
              "      <td>275XX</td>\n",
              "      <td>NaN</td>\n",
              "      <td>Consent provided</td>\n",
              "      <td>Web</td>\n",
              "      <td>2019-11-08</td>\n",
              "      <td>Closed with explanation</td>\n",
              "      <td>Yes</td>\n",
              "      <td>NaN</td>\n",
              "      <td>3433198</td>\n",
              "    </tr>\n",
              "    <tr>\n",
              "      <th>4</th>\n",
              "      <td>2019-02-08</td>\n",
              "      <td>Vehicle loan or lease</td>\n",
              "      <td>Lease</td>\n",
              "      <td>Problem with a credit reporting company's inve...</td>\n",
              "      <td>Their investigation did not fix an error on yo...</td>\n",
              "      <td>NaN</td>\n",
              "      <td>NaN</td>\n",
              "      <td>HYUNDAI CAPITAL AMERICA</td>\n",
              "      <td>FL</td>\n",
              "      <td>33161</td>\n",
              "      <td>NaN</td>\n",
              "      <td>Consent not provided</td>\n",
              "      <td>Web</td>\n",
              "      <td>2019-02-08</td>\n",
              "      <td>Closed with non-monetary relief</td>\n",
              "      <td>Yes</td>\n",
              "      <td>NaN</td>\n",
              "      <td>3146310</td>\n",
              "    </tr>\n",
              "  </tbody>\n",
              "</table>\n",
              "</div>"
            ],
            "text/plain": [
              "  Date received  ... Complaint ID\n",
              "0    2019-09-24  ...      3384392\n",
              "1    2019-09-19  ...      3379500\n",
              "2    2019-10-25  ...      3417821\n",
              "3    2019-11-08  ...      3433198\n",
              "4    2019-02-08  ...      3146310\n",
              "\n",
              "[5 rows x 18 columns]"
            ]
          },
          "metadata": {
            "tags": []
          },
          "execution_count": 40
        }
      ]
    },
    {
      "cell_type": "code",
      "metadata": {
        "id": "VUhQnk6P81x_",
        "colab_type": "code",
        "colab": {
          "base_uri": "https://localhost:8080/",
          "height": 212
        },
        "outputId": "f2e44b0d-be64-4f0e-b99c-fbed3dc611b2"
      },
      "source": [
        "import pandas as pd\n",
        "# Transformed data\n",
        "output_csv(data_dict, 'output/report.csv')\n",
        "df = pd.read_csv('output/report.csv')\n",
        "print(df.shape)\n",
        "df.head()"
      ],
      "execution_count": 39,
      "outputs": [
        {
          "output_type": "stream",
          "text": [
            "(98, 6)\n"
          ],
          "name": "stdout"
        },
        {
          "output_type": "execute_result",
          "data": {
            "text/html": [
              "<div>\n",
              "<style scoped>\n",
              "    .dataframe tbody tr th:only-of-type {\n",
              "        vertical-align: middle;\n",
              "    }\n",
              "\n",
              "    .dataframe tbody tr th {\n",
              "        vertical-align: top;\n",
              "    }\n",
              "\n",
              "    .dataframe thead th {\n",
              "        text-align: right;\n",
              "    }\n",
              "</style>\n",
              "<table border=\"1\" class=\"dataframe\">\n",
              "  <thead>\n",
              "    <tr style=\"text-align: right;\">\n",
              "      <th></th>\n",
              "      <th>product</th>\n",
              "      <th>year</th>\n",
              "      <th>num_complaint</th>\n",
              "      <th>num_company</th>\n",
              "      <th>most_complaints</th>\n",
              "      <th>highest_percent</th>\n",
              "    </tr>\n",
              "  </thead>\n",
              "  <tbody>\n",
              "    <tr>\n",
              "      <th>0</th>\n",
              "      <td>bank account or service</td>\n",
              "      <td>2012</td>\n",
              "      <td>12212</td>\n",
              "      <td>98</td>\n",
              "      <td>wells fargo &amp; company</td>\n",
              "      <td>19</td>\n",
              "    </tr>\n",
              "    <tr>\n",
              "      <th>1</th>\n",
              "      <td>bank account or service</td>\n",
              "      <td>2013</td>\n",
              "      <td>13388</td>\n",
              "      <td>164</td>\n",
              "      <td>wells fargo &amp; company</td>\n",
              "      <td>18</td>\n",
              "    </tr>\n",
              "    <tr>\n",
              "      <th>2</th>\n",
              "      <td>bank account or service</td>\n",
              "      <td>2014</td>\n",
              "      <td>14662</td>\n",
              "      <td>258</td>\n",
              "      <td>bank of america, national association</td>\n",
              "      <td>17</td>\n",
              "    </tr>\n",
              "    <tr>\n",
              "      <th>3</th>\n",
              "      <td>bank account or service</td>\n",
              "      <td>2015</td>\n",
              "      <td>17140</td>\n",
              "      <td>215</td>\n",
              "      <td>bank of america, national association</td>\n",
              "      <td>17</td>\n",
              "    </tr>\n",
              "    <tr>\n",
              "      <th>4</th>\n",
              "      <td>bank account or service</td>\n",
              "      <td>2016</td>\n",
              "      <td>21848</td>\n",
              "      <td>230</td>\n",
              "      <td>bank of america, national association</td>\n",
              "      <td>15</td>\n",
              "    </tr>\n",
              "  </tbody>\n",
              "</table>\n",
              "</div>"
            ],
            "text/plain": [
              "                   product  ...  highest_percent\n",
              "0  bank account or service  ...               19\n",
              "1  bank account or service  ...               18\n",
              "2  bank account or service  ...               17\n",
              "3  bank account or service  ...               17\n",
              "4  bank account or service  ...               15\n",
              "\n",
              "[5 rows x 6 columns]"
            ]
          },
          "metadata": {
            "tags": []
          },
          "execution_count": 39
        }
      ]
    },
    {
      "cell_type": "markdown",
      "metadata": {
        "id": "yc_E6AlexwWC",
        "colab_type": "text"
      },
      "source": [
        "# Testing the Code\n",
        "- Make sure the code checks for corrupt data"
      ]
    },
    {
      "cell_type": "code",
      "metadata": {
        "id": "d0t9QyYe7LHy",
        "colab_type": "code",
        "colab": {}
      },
      "source": [
        "!curl https://raw.githubusercontent.com/gyhou/consumer_complaints/master/testsuite/tests/my-own-tests/input/test1_complaints.csv -o sample_input/test1_complaints.csv\n",
        "!curl https://raw.githubusercontent.com/gyhou/consumer_complaints/master/testsuite/tests/my-own-tests/input/test2_complaints.csv -o sample_input/test2_complaints.csv\n",
        "!curl https://raw.githubusercontent.com/gyhou/consumer_complaints/master/testsuite/tests/my-own-tests/input/test3_complaints.csv -o sample_input/test3_complaints.csv\n",
        "!curl https://raw.githubusercontent.com/gyhou/consumer_complaints/master/testsuite/tests/my-own-tests/input/test4_complaints.csv -o sample_input/test4_complaints.csv"
      ],
      "execution_count": 0,
      "outputs": []
    },
    {
      "cell_type": "code",
      "metadata": {
        "id": "u9vZL0Ntxywv",
        "colab_type": "code",
        "colab": {
          "base_uri": "https://localhost:8080/",
          "height": 330
        },
        "outputId": "c0e979ef-4039-49a4-fa88-9db6bbd0e1bb"
      },
      "source": [
        "from pathlib import Path\n",
        "\n",
        "# Raise KeyError\n",
        "file_to_open = Path(\"sample_input/test1_complaints.csv\") # missing column\n",
        "data_dict1 = process_csv(file_to_open)"
      ],
      "execution_count": 11,
      "outputs": [
        {
          "output_type": "error",
          "ename": "KeyError",
          "evalue": "ignored",
          "traceback": [
            "\u001b[0;31m---------------------------------------------------------------------------\u001b[0m",
            "\u001b[0;31mKeyError\u001b[0m                                  Traceback (most recent call last)",
            "\u001b[0;32m<ipython-input-11-485dde11811f>\u001b[0m in \u001b[0;36m<module>\u001b[0;34m()\u001b[0m\n\u001b[1;32m      2\u001b[0m \u001b[0;34m\u001b[0m\u001b[0m\n\u001b[1;32m      3\u001b[0m \u001b[0mfile_to_open\u001b[0m \u001b[0;34m=\u001b[0m \u001b[0mPath\u001b[0m\u001b[0;34m(\u001b[0m\u001b[0;34m\"sample_input/test1_complaints.csv\"\u001b[0m\u001b[0;34m)\u001b[0m \u001b[0;31m# missing column\u001b[0m\u001b[0;34m\u001b[0m\u001b[0;34m\u001b[0m\u001b[0m\n\u001b[0;32m----> 4\u001b[0;31m \u001b[0mdata_dict1\u001b[0m \u001b[0;34m=\u001b[0m \u001b[0mprocess_csv\u001b[0m\u001b[0;34m(\u001b[0m\u001b[0mfile_to_open\u001b[0m\u001b[0;34m)\u001b[0m\u001b[0;34m\u001b[0m\u001b[0;34m\u001b[0m\u001b[0m\n\u001b[0m\u001b[1;32m      5\u001b[0m \u001b[0mdata_dict1\u001b[0m\u001b[0;34m\u001b[0m\u001b[0;34m\u001b[0m\u001b[0m\n",
            "\u001b[0;32m<ipython-input-2-27f25cfb1097>\u001b[0m in \u001b[0;36mprocess_csv\u001b[0;34m(file_loc)\u001b[0m\n\u001b[1;32m     31\u001b[0m             \u001b[0mmissing_col\u001b[0m\u001b[0;34m.\u001b[0m\u001b[0mappend\u001b[0m\u001b[0;34m(\u001b[0m\u001b[0;34m'Company'\u001b[0m\u001b[0;34m)\u001b[0m\u001b[0;34m\u001b[0m\u001b[0;34m\u001b[0m\u001b[0m\n\u001b[1;32m     32\u001b[0m         \u001b[0;32mif\u001b[0m \u001b[0mmissing_col\u001b[0m\u001b[0;34m:\u001b[0m\u001b[0;34m\u001b[0m\u001b[0;34m\u001b[0m\u001b[0m\n\u001b[0;32m---> 33\u001b[0;31m             \u001b[0;32mraise\u001b[0m \u001b[0mKeyError\u001b[0m\u001b[0;34m(\u001b[0m\u001b[0;34mf\"The csv is missing {missing_col} column(s).\"\u001b[0m\u001b[0;34m)\u001b[0m\u001b[0;34m\u001b[0m\u001b[0;34m\u001b[0m\u001b[0m\n\u001b[0m\u001b[1;32m     34\u001b[0m \u001b[0;34m\u001b[0m\u001b[0m\n\u001b[1;32m     35\u001b[0m         \u001b[0;31m# Data sorted by product (alphabetically) and year (ascending)\u001b[0m\u001b[0;34m\u001b[0m\u001b[0;34m\u001b[0m\u001b[0;34m\u001b[0m\u001b[0m\n",
            "\u001b[0;31mKeyError\u001b[0m: \"The csv is missing ['Product'] column(s).\""
          ]
        }
      ]
    },
    {
      "cell_type": "code",
      "metadata": {
        "id": "UpdjsCNMx4I6",
        "colab_type": "code",
        "colab": {
          "base_uri": "https://localhost:8080/",
          "height": 421
        },
        "outputId": "cf769673-f634-4f41-a951-ce7a819e4ce0"
      },
      "source": [
        "# Raise Value Error\n",
        "file_to_open = Path(\"sample_input/test2_complaints.csv\") # string - invalid year\n",
        "data_dict2 = process_csv(file_to_open)"
      ],
      "execution_count": 12,
      "outputs": [
        {
          "output_type": "error",
          "ename": "ValueError",
          "evalue": "ignored",
          "traceback": [
            "\u001b[0;31m---------------------------------------------------------------------------\u001b[0m",
            "\u001b[0;31mValueError\u001b[0m                                Traceback (most recent call last)",
            "\u001b[0;32m<ipython-input-2-27f25cfb1097>\u001b[0m in \u001b[0;36mprocess_csv\u001b[0;34m(file_loc)\u001b[0m\n\u001b[1;32m     49\u001b[0m             \u001b[0;32mtry\u001b[0m\u001b[0;34m:\u001b[0m\u001b[0;34m\u001b[0m\u001b[0;34m\u001b[0m\u001b[0m\n\u001b[0;32m---> 50\u001b[0;31m                 \u001b[0mint\u001b[0m\u001b[0;34m(\u001b[0m\u001b[0myear\u001b[0m\u001b[0;34m)\u001b[0m\u001b[0;34m\u001b[0m\u001b[0;34m\u001b[0m\u001b[0m\n\u001b[0m\u001b[1;32m     51\u001b[0m             \u001b[0;32mexcept\u001b[0m \u001b[0mValueError\u001b[0m\u001b[0;34m:\u001b[0m\u001b[0;34m\u001b[0m\u001b[0;34m\u001b[0m\u001b[0m\n",
            "\u001b[0;31mValueError\u001b[0m: invalid literal for int() with base 10: 'None'",
            "\nDuring handling of the above exception, another exception occurred:\n",
            "\u001b[0;31mValueError\u001b[0m                                Traceback (most recent call last)",
            "\u001b[0;32m<ipython-input-12-698174cdba11>\u001b[0m in \u001b[0;36m<module>\u001b[0;34m()\u001b[0m\n\u001b[1;32m      1\u001b[0m \u001b[0mfile_to_open\u001b[0m \u001b[0;34m=\u001b[0m \u001b[0mPath\u001b[0m\u001b[0;34m(\u001b[0m\u001b[0;34m\"sample_input/test2_complaints.csv\"\u001b[0m\u001b[0;34m)\u001b[0m \u001b[0;31m# string - invalid year\u001b[0m\u001b[0;34m\u001b[0m\u001b[0;34m\u001b[0m\u001b[0m\n\u001b[0;32m----> 2\u001b[0;31m \u001b[0mdata_dict2\u001b[0m \u001b[0;34m=\u001b[0m \u001b[0mprocess_csv\u001b[0m\u001b[0;34m(\u001b[0m\u001b[0mfile_to_open\u001b[0m\u001b[0;34m)\u001b[0m\u001b[0;34m\u001b[0m\u001b[0;34m\u001b[0m\u001b[0m\n\u001b[0m\u001b[1;32m      3\u001b[0m \u001b[0mdata_dict2\u001b[0m\u001b[0;34m\u001b[0m\u001b[0;34m\u001b[0m\u001b[0m\n",
            "\u001b[0;32m<ipython-input-2-27f25cfb1097>\u001b[0m in \u001b[0;36mprocess_csv\u001b[0;34m(file_loc)\u001b[0m\n\u001b[1;32m     50\u001b[0m                 \u001b[0mint\u001b[0m\u001b[0;34m(\u001b[0m\u001b[0myear\u001b[0m\u001b[0;34m)\u001b[0m\u001b[0;34m\u001b[0m\u001b[0;34m\u001b[0m\u001b[0m\n\u001b[1;32m     51\u001b[0m             \u001b[0;32mexcept\u001b[0m \u001b[0mValueError\u001b[0m\u001b[0;34m:\u001b[0m\u001b[0;34m\u001b[0m\u001b[0;34m\u001b[0m\u001b[0m\n\u001b[0;32m---> 52\u001b[0;31m                 \u001b[0;32mraise\u001b[0m \u001b[0mValueError\u001b[0m\u001b[0;34m(\u001b[0m\u001b[0;34mf'\"{year}\" is not a valid year.'\u001b[0m\u001b[0;34m)\u001b[0m\u001b[0;34m\u001b[0m\u001b[0;34m\u001b[0m\u001b[0m\n\u001b[0m\u001b[1;32m     53\u001b[0m \u001b[0;34m\u001b[0m\u001b[0m\n\u001b[1;32m     54\u001b[0m             \u001b[0;31m# Set primary key (product, year)\u001b[0m\u001b[0;34m\u001b[0m\u001b[0;34m\u001b[0m\u001b[0;34m\u001b[0m\u001b[0m\n",
            "\u001b[0;31mValueError\u001b[0m: \"None\" is not a valid year."
          ]
        }
      ]
    },
    {
      "cell_type": "code",
      "metadata": {
        "id": "P8MgVoR3x8GY",
        "colab_type": "code",
        "colab": {
          "base_uri": "https://localhost:8080/",
          "height": 421
        },
        "outputId": "8ce2eb44-a17e-447d-a6c5-07076bfe6afb"
      },
      "source": [
        "# Raise Value Error\n",
        "file_to_open = Path(\"sample_input/test3_complaints.csv\") # blank year - invalid\n",
        "data_dict3 = process_csv(file_to_open)"
      ],
      "execution_count": 13,
      "outputs": [
        {
          "output_type": "error",
          "ename": "ValueError",
          "evalue": "ignored",
          "traceback": [
            "\u001b[0;31m---------------------------------------------------------------------------\u001b[0m",
            "\u001b[0;31mValueError\u001b[0m                                Traceback (most recent call last)",
            "\u001b[0;32m<ipython-input-2-27f25cfb1097>\u001b[0m in \u001b[0;36mprocess_csv\u001b[0;34m(file_loc)\u001b[0m\n\u001b[1;32m     49\u001b[0m             \u001b[0;32mtry\u001b[0m\u001b[0;34m:\u001b[0m\u001b[0;34m\u001b[0m\u001b[0;34m\u001b[0m\u001b[0m\n\u001b[0;32m---> 50\u001b[0;31m                 \u001b[0mint\u001b[0m\u001b[0;34m(\u001b[0m\u001b[0myear\u001b[0m\u001b[0;34m)\u001b[0m\u001b[0;34m\u001b[0m\u001b[0;34m\u001b[0m\u001b[0m\n\u001b[0m\u001b[1;32m     51\u001b[0m             \u001b[0;32mexcept\u001b[0m \u001b[0mValueError\u001b[0m\u001b[0;34m:\u001b[0m\u001b[0;34m\u001b[0m\u001b[0;34m\u001b[0m\u001b[0m\n",
            "\u001b[0;31mValueError\u001b[0m: invalid literal for int() with base 10: ''",
            "\nDuring handling of the above exception, another exception occurred:\n",
            "\u001b[0;31mValueError\u001b[0m                                Traceback (most recent call last)",
            "\u001b[0;32m<ipython-input-13-a908cf2a5970>\u001b[0m in \u001b[0;36m<module>\u001b[0;34m()\u001b[0m\n\u001b[1;32m      1\u001b[0m \u001b[0mfile_to_open\u001b[0m \u001b[0;34m=\u001b[0m \u001b[0mPath\u001b[0m\u001b[0;34m(\u001b[0m\u001b[0;34m\"sample_input/test3_complaints.csv\"\u001b[0m\u001b[0;34m)\u001b[0m \u001b[0;31m# blank year - invalid\u001b[0m\u001b[0;34m\u001b[0m\u001b[0;34m\u001b[0m\u001b[0m\n\u001b[0;32m----> 2\u001b[0;31m \u001b[0mdata_dict3\u001b[0m \u001b[0;34m=\u001b[0m \u001b[0mprocess_csv\u001b[0m\u001b[0;34m(\u001b[0m\u001b[0mfile_to_open\u001b[0m\u001b[0;34m)\u001b[0m\u001b[0;34m\u001b[0m\u001b[0;34m\u001b[0m\u001b[0m\n\u001b[0m\u001b[1;32m      3\u001b[0m \u001b[0mdata_dict3\u001b[0m\u001b[0;34m\u001b[0m\u001b[0;34m\u001b[0m\u001b[0m\n",
            "\u001b[0;32m<ipython-input-2-27f25cfb1097>\u001b[0m in \u001b[0;36mprocess_csv\u001b[0;34m(file_loc)\u001b[0m\n\u001b[1;32m     50\u001b[0m                 \u001b[0mint\u001b[0m\u001b[0;34m(\u001b[0m\u001b[0myear\u001b[0m\u001b[0;34m)\u001b[0m\u001b[0;34m\u001b[0m\u001b[0;34m\u001b[0m\u001b[0m\n\u001b[1;32m     51\u001b[0m             \u001b[0;32mexcept\u001b[0m \u001b[0mValueError\u001b[0m\u001b[0;34m:\u001b[0m\u001b[0;34m\u001b[0m\u001b[0;34m\u001b[0m\u001b[0m\n\u001b[0;32m---> 52\u001b[0;31m                 \u001b[0;32mraise\u001b[0m \u001b[0mValueError\u001b[0m\u001b[0;34m(\u001b[0m\u001b[0;34mf'\"{year}\" is not a valid year.'\u001b[0m\u001b[0;34m)\u001b[0m\u001b[0;34m\u001b[0m\u001b[0;34m\u001b[0m\u001b[0m\n\u001b[0m\u001b[1;32m     53\u001b[0m \u001b[0;34m\u001b[0m\u001b[0m\n\u001b[1;32m     54\u001b[0m             \u001b[0;31m# Set primary key (product, year)\u001b[0m\u001b[0;34m\u001b[0m\u001b[0;34m\u001b[0m\u001b[0;34m\u001b[0m\u001b[0m\n",
            "\u001b[0;31mValueError\u001b[0m: \"\" is not a valid year."
          ]
        }
      ]
    },
    {
      "cell_type": "code",
      "metadata": {
        "id": "rUxhYRLPx97X",
        "colab_type": "code",
        "colab": {
          "base_uri": "https://localhost:8080/",
          "height": 313
        },
        "outputId": "af5d7844-d58d-4ae2-debc-83f5c1e04861"
      },
      "source": [
        "# Raise Type Error\n",
        "file_to_open = Path(\"sample_input/test4_complaints.csv\") # invalid product, company\n",
        "data_dict4 = process_csv(file_to_open)"
      ],
      "execution_count": 14,
      "outputs": [
        {
          "output_type": "error",
          "ename": "TypeError",
          "evalue": "ignored",
          "traceback": [
            "\u001b[0;31m---------------------------------------------------------------------------\u001b[0m",
            "\u001b[0;31mTypeError\u001b[0m                                 Traceback (most recent call last)",
            "\u001b[0;32m<ipython-input-14-f55d535c2ca7>\u001b[0m in \u001b[0;36m<module>\u001b[0;34m()\u001b[0m\n\u001b[1;32m      1\u001b[0m \u001b[0mfile_to_open\u001b[0m \u001b[0;34m=\u001b[0m \u001b[0mPath\u001b[0m\u001b[0;34m(\u001b[0m\u001b[0;34m\"sample_input/test4_complaints.csv\"\u001b[0m\u001b[0;34m)\u001b[0m \u001b[0;31m# invalid product, company\u001b[0m\u001b[0;34m\u001b[0m\u001b[0;34m\u001b[0m\u001b[0m\n\u001b[0;32m----> 2\u001b[0;31m \u001b[0mdata_dict4\u001b[0m \u001b[0;34m=\u001b[0m \u001b[0mprocess_csv\u001b[0m\u001b[0;34m(\u001b[0m\u001b[0mfile_to_open\u001b[0m\u001b[0;34m)\u001b[0m\u001b[0;34m\u001b[0m\u001b[0;34m\u001b[0m\u001b[0m\n\u001b[0m\u001b[1;32m      3\u001b[0m \u001b[0mdata_dict4\u001b[0m\u001b[0;34m\u001b[0m\u001b[0;34m\u001b[0m\u001b[0m\n",
            "\u001b[0;32m<ipython-input-2-27f25cfb1097>\u001b[0m in \u001b[0;36mprocess_csv\u001b[0;34m(file_loc)\u001b[0m\n\u001b[1;32m     46\u001b[0m                 \u001b[0;32mraise\u001b[0m \u001b[0mTypeError\u001b[0m\u001b[0;34m(\u001b[0m\u001b[0;34mf'\"{product}\" is not a valid product.'\u001b[0m\u001b[0;34m)\u001b[0m\u001b[0;34m\u001b[0m\u001b[0;34m\u001b[0m\u001b[0m\n\u001b[1;32m     47\u001b[0m             \u001b[0;32mif\u001b[0m \u001b[0mcompany\u001b[0m \u001b[0;32min\u001b[0m \u001b[0;34m[\u001b[0m\u001b[0;34m''\u001b[0m\u001b[0;34m,\u001b[0m \u001b[0;34m'n/a'\u001b[0m\u001b[0;34m,\u001b[0m \u001b[0;34m'none'\u001b[0m\u001b[0;34m,\u001b[0m \u001b[0;34m'nan'\u001b[0m\u001b[0;34m,\u001b[0m \u001b[0;32mNone\u001b[0m\u001b[0;34m]\u001b[0m \u001b[0;32mor\u001b[0m \u001b[0mcompany\u001b[0m\u001b[0;34m.\u001b[0m\u001b[0misspace\u001b[0m\u001b[0;34m(\u001b[0m\u001b[0;34m)\u001b[0m\u001b[0;34m:\u001b[0m\u001b[0;34m\u001b[0m\u001b[0;34m\u001b[0m\u001b[0m\n\u001b[0;32m---> 48\u001b[0;31m                 \u001b[0;32mraise\u001b[0m \u001b[0mTypeError\u001b[0m\u001b[0;34m(\u001b[0m\u001b[0;34mf'\"{company}\" is not a valid company.'\u001b[0m\u001b[0;34m)\u001b[0m\u001b[0;34m\u001b[0m\u001b[0;34m\u001b[0m\u001b[0m\n\u001b[0m\u001b[1;32m     49\u001b[0m             \u001b[0;32mtry\u001b[0m\u001b[0;34m:\u001b[0m\u001b[0;34m\u001b[0m\u001b[0;34m\u001b[0m\u001b[0m\n\u001b[1;32m     50\u001b[0m                 \u001b[0mint\u001b[0m\u001b[0;34m(\u001b[0m\u001b[0myear\u001b[0m\u001b[0;34m)\u001b[0m\u001b[0;34m\u001b[0m\u001b[0;34m\u001b[0m\u001b[0m\n",
            "\u001b[0;31mTypeError\u001b[0m: \" \" is not a valid company."
          ]
        }
      ]
    }
  ]
}